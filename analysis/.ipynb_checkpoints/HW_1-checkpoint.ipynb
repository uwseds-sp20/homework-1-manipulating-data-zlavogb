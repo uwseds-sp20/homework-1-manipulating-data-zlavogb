{
 "cells": [
  {
   "cell_type": "markdown",
   "metadata": {},
   "source": [
    "<center> Homework 1</center>\n",
    "<center> Bianca Zlavog </center>\n",
    "<center> DATA 515, Spring 2020 </center>"
   ]
  },
  {
   "cell_type": "markdown",
   "metadata": {},
   "source": [
    "# Data download\n",
    "We download data on the number of bicycles crossing the Fremont Bridge from the [City of Seattle Fremont Bridge Bicycle Counter](https://data.seattle.gov/Transportation/Fremont-Bridge-Hourly-Bicycle-Counts-by-Month-Octo/65db-xm6k). This contains the daily and hourly counts for bicycles crossing the bridge since the counter began operation in October 2012, through the most recent month. The counts are also split between which sidewalk the bicycles traverse, either the East or West sidewalk. The fields included in this data are:\n",
    "\n",
    "-`Date`: date of the observation, in the format `MM/DD/YYYY HH:00:00 AM/PM`\n",
    "\n",
    "-`Fremont Bridge Total`: total number of bikes that crossed the bridge\n",
    "\n",
    "-`Fremont Bridge East Sidewalk`: number of bikes that crossed the bridge on the east sidewalk\n",
    "\n",
    "-`Fremont Bridge West Sidewalk`: number of bikes that crossed the bridge on the west sidewalk\n",
    "\n",
    "We begin by importing all necessary packages, then downloading and saving the raw data."
   ]
  },
  {
   "cell_type": "code",
   "execution_count": 1,
   "metadata": {},
   "outputs": [],
   "source": [
    "import csv\n",
    "import urllib.request\n",
    "from urllib.request import urlopen\n",
    "import codecs\n",
    "import pandas as pd\n",
    "import numpy as np\n",
    "import matplotlib.pyplot as plt"
   ]
  },
  {
   "cell_type": "code",
   "execution_count": 2,
   "metadata": {},
   "outputs": [],
   "source": [
    "# Read in Fremont Bridge Bicycle Counter dataset from website, and parse the resulting csv file\n",
    "ftpstream = urllib.request.urlopen(\"https://data.seattle.gov/api/views/65db-xm6k/rows.csv\")\n",
    "csvfile = csv.reader(codecs.iterdecode(ftpstream, 'utf-8'))\n",
    "fremont_bikes = pd.DataFrame(csvfile)\n",
    "\n",
    "# Save out raw data\n",
    "fremont_bikes.to_csv(\"../data/fremont_bikes_data.csv\", index = False) "
   ]
  },
  {
   "cell_type": "markdown",
   "metadata": {},
   "source": [
    "# Data preparation\n",
    "We first read the downloaded csv file into a Pandas dataframe, then add several new columns:\n",
    "\n",
    "-`total_bikes`: total bicycle count including East and West sidewalk counts\n",
    "\n",
    "-`hour`: hour of the day\n",
    "\n",
    "-`year`: year of the observation\n",
    "\n",
    "Finally, we subset the data to the year 2016 for our analysis."
   ]
  },
  {
   "cell_type": "code",
   "execution_count": 3,
   "metadata": {},
   "outputs": [
    {
     "data": {
      "text/html": [
       "<div>\n",
       "<style scoped>\n",
       "    .dataframe tbody tr th:only-of-type {\n",
       "        vertical-align: middle;\n",
       "    }\n",
       "\n",
       "    .dataframe tbody tr th {\n",
       "        vertical-align: top;\n",
       "    }\n",
       "\n",
       "    .dataframe thead th {\n",
       "        text-align: right;\n",
       "    }\n",
       "</style>\n",
       "<table border=\"1\" class=\"dataframe\">\n",
       "  <thead>\n",
       "    <tr style=\"text-align: right;\">\n",
       "      <th></th>\n",
       "      <th>Date</th>\n",
       "      <th>Fremont Bridge Total</th>\n",
       "      <th>Fremont Bridge East Sidewalk</th>\n",
       "      <th>Fremont Bridge West Sidewalk</th>\n",
       "    </tr>\n",
       "  </thead>\n",
       "  <tbody>\n",
       "    <tr>\n",
       "      <th>0</th>\n",
       "      <td>10/03/2012 12:00:00 AM</td>\n",
       "      <td>13.0</td>\n",
       "      <td>4.0</td>\n",
       "      <td>9.0</td>\n",
       "    </tr>\n",
       "    <tr>\n",
       "      <th>1</th>\n",
       "      <td>10/03/2012 01:00:00 AM</td>\n",
       "      <td>10.0</td>\n",
       "      <td>4.0</td>\n",
       "      <td>6.0</td>\n",
       "    </tr>\n",
       "    <tr>\n",
       "      <th>2</th>\n",
       "      <td>10/03/2012 02:00:00 AM</td>\n",
       "      <td>2.0</td>\n",
       "      <td>1.0</td>\n",
       "      <td>1.0</td>\n",
       "    </tr>\n",
       "    <tr>\n",
       "      <th>3</th>\n",
       "      <td>10/03/2012 03:00:00 AM</td>\n",
       "      <td>5.0</td>\n",
       "      <td>2.0</td>\n",
       "      <td>3.0</td>\n",
       "    </tr>\n",
       "    <tr>\n",
       "      <th>4</th>\n",
       "      <td>10/03/2012 04:00:00 AM</td>\n",
       "      <td>7.0</td>\n",
       "      <td>6.0</td>\n",
       "      <td>1.0</td>\n",
       "    </tr>\n",
       "  </tbody>\n",
       "</table>\n",
       "</div>"
      ],
      "text/plain": [
       "                     Date  Fremont Bridge Total  Fremont Bridge East Sidewalk  \\\n",
       "0  10/03/2012 12:00:00 AM                  13.0                           4.0   \n",
       "1  10/03/2012 01:00:00 AM                  10.0                           4.0   \n",
       "2  10/03/2012 02:00:00 AM                   2.0                           1.0   \n",
       "3  10/03/2012 03:00:00 AM                   5.0                           2.0   \n",
       "4  10/03/2012 04:00:00 AM                   7.0                           6.0   \n",
       "\n",
       "   Fremont Bridge West Sidewalk  \n",
       "0                           9.0  \n",
       "1                           6.0  \n",
       "2                           1.0  \n",
       "3                           3.0  \n",
       "4                           1.0  "
      ]
     },
     "execution_count": 3,
     "metadata": {},
     "output_type": "execute_result"
    }
   ],
   "source": [
    "# Read raw data to Pandas dataframe, and display the data\n",
    "fremont_bikes = pd.read_csv(\"../data/fremont_bikes_data.csv\", header = 1)\n",
    "fremont_bikes.head()"
   ]
  },
  {
   "cell_type": "code",
   "execution_count": 4,
   "metadata": {},
   "outputs": [],
   "source": [
    "# Add new columns for total East + Wesk sidewalk counts, and hour and year\n",
    "fremont_bikes[\"total_bikes\"] = fremont_bikes[\"Fremont Bridge East Sidewalk\"] + fremont_bikes[\"Fremont Bridge West Sidewalk\"]\n",
    "fremont_bikes[\"hour\"] = pd.DatetimeIndex(fremont_bikes[\"Date\"]).hour \n",
    "fremont_bikes[\"year\"] = pd.DatetimeIndex(fremont_bikes[\"Date\"]).year "
   ]
  },
  {
   "cell_type": "code",
   "execution_count": 5,
   "metadata": {},
   "outputs": [],
   "source": [
    "# Create a new dataframe for only 2016 data\n",
    "fremont_bikes_2016 = fremont_bikes[fremont_bikes[\"year\"]==2016]"
   ]
  },
  {
   "cell_type": "markdown",
   "metadata": {},
   "source": [
    "# Data analysis\n",
    "Finally, we analyze the hourly bicycle counts data. We look at the average busiest hour of the day across all days in 2016, and plot the number of bicycles crossing the Fremont Bridge in 2016 by hour."
   ]
  },
  {
   "cell_type": "code",
   "execution_count": 6,
   "metadata": {},
   "outputs": [
    {
     "data": {
      "text/plain": [
       "11.5"
      ]
     },
     "execution_count": 6,
     "metadata": {},
     "output_type": "execute_result"
    }
   ],
   "source": [
    "np.mean(fremont_bikes_2016[\"hour\"])"
   ]
  },
  {
   "cell_type": "markdown",
   "metadata": {},
   "source": [
    "From this mean, we see that the busiest time for bicycles crossing the bridge is between 11:00 AM and 12:00 AM."
   ]
  },
  {
   "cell_type": "code",
   "execution_count": 7,
   "metadata": {},
   "outputs": [
    {
     "data": {
      "text/html": [
       "<div>\n",
       "<style scoped>\n",
       "    .dataframe tbody tr th:only-of-type {\n",
       "        vertical-align: middle;\n",
       "    }\n",
       "\n",
       "    .dataframe tbody tr th {\n",
       "        vertical-align: top;\n",
       "    }\n",
       "\n",
       "    .dataframe thead th {\n",
       "        text-align: right;\n",
       "    }\n",
       "</style>\n",
       "<table border=\"1\" class=\"dataframe\">\n",
       "  <thead>\n",
       "    <tr style=\"text-align: right;\">\n",
       "      <th></th>\n",
       "      <th>hour</th>\n",
       "      <th>Fremont Bridge Total</th>\n",
       "      <th>Fremont Bridge East Sidewalk</th>\n",
       "      <th>Fremont Bridge West Sidewalk</th>\n",
       "      <th>total_bikes</th>\n",
       "      <th>year</th>\n",
       "      <th>total_bikes_thous</th>\n",
       "    </tr>\n",
       "  </thead>\n",
       "  <tbody>\n",
       "    <tr>\n",
       "      <th>0</th>\n",
       "      <td>0</td>\n",
       "      <td>3910.0</td>\n",
       "      <td>1708.0</td>\n",
       "      <td>2202.0</td>\n",
       "      <td>3910.0</td>\n",
       "      <td>737856</td>\n",
       "      <td>3.910</td>\n",
       "    </tr>\n",
       "    <tr>\n",
       "      <th>1</th>\n",
       "      <td>1</td>\n",
       "      <td>2025.0</td>\n",
       "      <td>907.0</td>\n",
       "      <td>1118.0</td>\n",
       "      <td>2025.0</td>\n",
       "      <td>737856</td>\n",
       "      <td>2.025</td>\n",
       "    </tr>\n",
       "    <tr>\n",
       "      <th>2</th>\n",
       "      <td>2</td>\n",
       "      <td>1265.0</td>\n",
       "      <td>527.0</td>\n",
       "      <td>738.0</td>\n",
       "      <td>1265.0</td>\n",
       "      <td>737856</td>\n",
       "      <td>1.265</td>\n",
       "    </tr>\n",
       "    <tr>\n",
       "      <th>3</th>\n",
       "      <td>3</td>\n",
       "      <td>781.0</td>\n",
       "      <td>383.0</td>\n",
       "      <td>398.0</td>\n",
       "      <td>781.0</td>\n",
       "      <td>737856</td>\n",
       "      <td>0.781</td>\n",
       "    </tr>\n",
       "    <tr>\n",
       "      <th>4</th>\n",
       "      <td>4</td>\n",
       "      <td>2240.0</td>\n",
       "      <td>1222.0</td>\n",
       "      <td>1018.0</td>\n",
       "      <td>2240.0</td>\n",
       "      <td>737856</td>\n",
       "      <td>2.240</td>\n",
       "    </tr>\n",
       "  </tbody>\n",
       "</table>\n",
       "</div>"
      ],
      "text/plain": [
       "   hour  Fremont Bridge Total  Fremont Bridge East Sidewalk  \\\n",
       "0     0                3910.0                        1708.0   \n",
       "1     1                2025.0                         907.0   \n",
       "2     2                1265.0                         527.0   \n",
       "3     3                 781.0                         383.0   \n",
       "4     4                2240.0                        1222.0   \n",
       "\n",
       "   Fremont Bridge West Sidewalk  total_bikes    year  total_bikes_thous  \n",
       "0                        2202.0       3910.0  737856              3.910  \n",
       "1                        1118.0       2025.0  737856              2.025  \n",
       "2                         738.0       1265.0  737856              1.265  \n",
       "3                         398.0        781.0  737856              0.781  \n",
       "4                        1018.0       2240.0  737856              2.240  "
      ]
     },
     "execution_count": 7,
     "metadata": {},
     "output_type": "execute_result"
    }
   ],
   "source": [
    "# Sum up the total number of bicycles by hour\n",
    "fremont_bikes_2016_hourly = fremont_bikes_2016.groupby(['hour'], as_index=False).sum()\n",
    "# Create a column in thousands for neater plotting\n",
    "fremont_bikes_2016_hourly[\"total_bikes_thous\"] = fremont_bikes_2016_hourly[\"total_bikes\"] / 1000\n",
    "fremont_bikes_2016_hourly.head()"
   ]
  },
  {
   "cell_type": "code",
   "execution_count": 8,
   "metadata": {},
   "outputs": [
    {
     "data": {
      "image/png": "[encoded data removed]",
      "text/plain": [
       "<Figure size 432x288 with 1 Axes>"
      ]
     },
     "metadata": {
      "needs_background": "light"
     },
     "output_type": "display_data"
    }
   ],
   "source": [
    "# Plot the time series by hour of total bicycles\n",
    "plt.plot('hour', 'total_bikes_thous', data=fremont_bikes_2016_hourly, color='black', label='total bikes')\n",
    "\n",
    "# Label axes, create legend, and format the figure\n",
    "plt.ylabel('Thousands of bicycles')\n",
    "plt.xlabel('Hour')\n",
    "plt.title('Number of bicycles crossing Fremont Bridge in 2016 by hour')\n",
    "plt.grid()\n",
    "plt.axhline(y=0, color='k', linewidth = 0)\n",
    "\n",
    "plt.show()"
   ]
  },
  {
   "cell_type": "markdown",
   "metadata": {},
   "source": [
    "From this figure, we see two major peaks in bicycle traffic across the Fremont Bridge in 2016 around hour 8 or 8:00 AM and hour 17 or 6:00 PM. This likely aligns with peak commuter hours as many cyclists may be commuting to work in the mornings and returning from work in the evenings. At these peaks, between 120,000 and 140,000 total cyclists crossed the Fremont bridge in 2016. The least frequent time for cyclists crossing the bridge was around 3:00 AM."
   ]
  }
 ],
 "metadata": {
  "kernelspec": {
   "display_name": "Python 3",
   "language": "python",
   "name": "python3"
  },
  "language_info": {
   "codemirror_mode": {
    "name": "ipython",
    "version": 3
   },
   "file_extension": ".py",
   "mimetype": "text/x-python",
   "name": "python",
   "nbconvert_exporter": "python",
   "pygments_lexer": "ipython3",
   "version": "3.6.8"
  }
 },
 "nbformat": 4,
 "nbformat_minor": 4
}
