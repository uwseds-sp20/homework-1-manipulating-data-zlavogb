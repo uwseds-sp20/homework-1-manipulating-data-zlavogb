{
 "cells": [
  {
   "cell_type": "markdown",
   "metadata": {},
   "source": [
    "<center> Homework 1</center>\n",
    "<center> Bianca Zlavog </center>\n",
    "<center> DATA 515, Spring 2020 </center>"
   ]
  },
  {
   "cell_type": "markdown",
   "metadata": {},
   "source": [
    "# Data download\n",
    "We download data on the number of bicycles crossing the Fremont Bridge from the [City of Seattle Fremont Bridge Bicycle Counter](https://data.seattle.gov/Transportation/Fremont-Bridge-Hourly-Bicycle-Counts-by-Month-Octo/65db-xm6k). This contains the daily and hourly counts for bicycles crossing the bridge since the counter began operation in October 2012, through the most recent month. The counts are also split between which sidewalk the bicycles traverse, either the East or West sidewalk. The fields included in this data are:\n",
    "\n",
    "-`Date`: date of the observation, in the format `MM/DD/YYYY HH:00:00 AM/PM`\n",
    "\n",
    "-`Fremont Bridge Total`: total number of bikes that crossed the bridge\n",
    "\n",
    "-`Fremont Bridge East Sidewalk`: number of bikes that crossed the bridge on the east sidewalk\n",
    "\n",
    "-`Fremont Bridge West Sidewalk`: number of bikes that crossed the bridge on the west sidewalk\n",
    "\n",
    "We begin by importing all necessary packages, then downloading and saving the raw data."
   ]
  },
  {
   "cell_type": "code",
   "execution_count": 1,
   "metadata": {},
   "outputs": [],
   "source": [
    "import csv\n",
    "import urllib.request\n",
    "from urllib.request import urlopen\n",
    "import codecs\n",
    "import pandas as pd\n",
    "import numpy as np\n",
    "import matplotlib.pyplot as plt"
   ]
  },
  {
   "cell_type": "code",
   "execution_count": 2,
   "metadata": {},
   "outputs": [],
   "source": [
    "# Read in Fremont Bridge Bicycle Counter dataset from website, and parse the resulting csv file\n",
    "ftpstream = urllib.request.urlopen(\"https://data.seattle.gov/api/views/65db-xm6k/rows.csv\")\n",
    "csvfile = csv.reader(codecs.iterdecode(ftpstream, 'utf-8'))\n",
    "fremont_bikes = pd.DataFrame(csvfile)\n",
    "\n",
    "# Save out raw data\n",
    "fremont_bikes.to_csv(\"../data/fremont_bikes_data.csv\", index = False) "
   ]
  },
  {
   "cell_type": "markdown",
   "metadata": {},
   "source": [
    "# Data preparation\n",
    "We first read the downloaded csv file into a Pandas dataframe, then add several new columns:\n",
    "\n",
    "-`total_bikes`: total bicycle count including East and West sidewalk counts\n",
    "\n",
    "-`hour`: hour of the day\n",
    "\n",
    "-`year`: year of the observation\n",
    "\n",
    "Finally, we subset the data to the year 2016 for our analysis."
   ]
  },
  {
   "cell_type": "code",
   "execution_count": 3,
   "metadata": {},
   "outputs": [
    {
     "data": {
      "text/html": [
       "<div>\n",
       "<style scoped>\n",
       "    .dataframe tbody tr th:only-of-type {\n",
       "        vertical-align: middle;\n",
       "    }\n",
       "\n",
       "    .dataframe tbody tr th {\n",
       "        vertical-align: top;\n",
       "    }\n",
       "\n",
       "    .dataframe thead th {\n",
       "        text-align: right;\n",
       "    }\n",
       "</style>\n",
       "<table border=\"1\" class=\"dataframe\">\n",
       "  <thead>\n",
       "    <tr style=\"text-align: right;\">\n",
       "      <th></th>\n",
       "      <th>Date</th>\n",
       "      <th>Fremont Bridge Total</th>\n",
       "      <th>Fremont Bridge East Sidewalk</th>\n",
       "      <th>Fremont Bridge West Sidewalk</th>\n",
       "    </tr>\n",
       "  </thead>\n",
       "  <tbody>\n",
       "    <tr>\n",
       "      <th>0</th>\n",
       "      <td>10/03/2012 12:00:00 AM</td>\n",
       "      <td>13.0</td>\n",
       "      <td>4.0</td>\n",
       "      <td>9.0</td>\n",
       "    </tr>\n",
       "    <tr>\n",
       "      <th>1</th>\n",
       "      <td>10/03/2012 01:00:00 AM</td>\n",
       "      <td>10.0</td>\n",
       "      <td>4.0</td>\n",
       "      <td>6.0</td>\n",
       "    </tr>\n",
       "    <tr>\n",
       "      <th>2</th>\n",
       "      <td>10/03/2012 02:00:00 AM</td>\n",
       "      <td>2.0</td>\n",
       "      <td>1.0</td>\n",
       "      <td>1.0</td>\n",
       "    </tr>\n",
       "    <tr>\n",
       "      <th>3</th>\n",
       "      <td>10/03/2012 03:00:00 AM</td>\n",
       "      <td>5.0</td>\n",
       "      <td>2.0</td>\n",
       "      <td>3.0</td>\n",
       "    </tr>\n",
       "    <tr>\n",
       "      <th>4</th>\n",
       "      <td>10/03/2012 04:00:00 AM</td>\n",
       "      <td>7.0</td>\n",
       "      <td>6.0</td>\n",
       "      <td>1.0</td>\n",
       "    </tr>\n",
       "  </tbody>\n",
       "</table>\n",
       "</div>"
      ],
      "text/plain": [
       "                     Date  Fremont Bridge Total  Fremont Bridge East Sidewalk  \\\n",
       "0  10/03/2012 12:00:00 AM                  13.0                           4.0   \n",
       "1  10/03/2012 01:00:00 AM                  10.0                           4.0   \n",
       "2  10/03/2012 02:00:00 AM                   2.0                           1.0   \n",
       "3  10/03/2012 03:00:00 AM                   5.0                           2.0   \n",
       "4  10/03/2012 04:00:00 AM                   7.0                           6.0   \n",
       "\n",
       "   Fremont Bridge West Sidewalk  \n",
       "0                           9.0  \n",
       "1                           6.0  \n",
       "2                           1.0  \n",
       "3                           3.0  \n",
       "4                           1.0  "
      ]
     },
     "execution_count": 3,
     "metadata": {},
     "output_type": "execute_result"
    }
   ],
   "source": [
    "# Read raw data to Pandas dataframe, and display the data\n",
    "fremont_bikes = pd.read_csv(\"../data/fremont_bikes_data.csv\", header = 1)\n",
    "fremont_bikes.head()"
   ]
  },
  {
   "cell_type": "code",
   "execution_count": 4,
   "metadata": {},
   "outputs": [],
   "source": [
    "# Add new columns for total East + Wesk sidewalk counts, and hour and year\n",
    "fremont_bikes[\"total_bikes\"] = fremont_bikes[\"Fremont Bridge East Sidewalk\"] + fremont_bikes[\"Fremont Bridge West Sidewalk\"]\n",
    "fremont_bikes[\"hour\"] = pd.DatetimeIndex(fremont_bikes[\"Date\"]).hour \n",
    "fremont_bikes[\"year\"] = pd.DatetimeIndex(fremont_bikes[\"Date\"]).year "
   ]
  },
  {
   "cell_type": "code",
   "execution_count": 5,
   "metadata": {},
   "outputs": [],
   "source": [
    "# Create a new dataframe for only 2016 data\n",
    "fremont_bikes_2016 = fremont_bikes[fremont_bikes[\"year\"]==2016]"
   ]
  },
  {
   "cell_type": "markdown",
   "metadata": {},
   "source": [
    "# Data analysis\n",
    "Finally, we analyze the hourly bicycle counts data. We look at the average busiest hour of the day across all days in 2016, and plot the number of bicycles crossing the Fremont Bridge in 2016 by hour."
   ]
  },
  {
   "cell_type": "code",
   "execution_count": 6,
   "metadata": {},
   "outputs": [
    {
     "data": {
      "text/plain": [
       "11.5"
      ]
     },
     "execution_count": 6,
     "metadata": {},
     "output_type": "execute_result"
    }
   ],
   "source": [
    "np.mean(fremont_bikes_2016[\"hour\"])"
   ]
  },
  {
   "cell_type": "markdown",
   "metadata": {},
   "source": [
    "From this mean, we see that the busiest time for bicycles crossing the bridge is between 11:00 AM and 12:00 AM."
   ]
  },
  {
   "cell_type": "code",
   "execution_count": 7,
   "metadata": {},
   "outputs": [
    {
     "data": {
      "text/html": [
       "<div>\n",
       "<style scoped>\n",
       "    .dataframe tbody tr th:only-of-type {\n",
       "        vertical-align: middle;\n",
       "    }\n",
       "\n",
       "    .dataframe tbody tr th {\n",
       "        vertical-align: top;\n",
       "    }\n",
       "\n",
       "    .dataframe thead th {\n",
       "        text-align: right;\n",
       "    }\n",
       "</style>\n",
       "<table border=\"1\" class=\"dataframe\">\n",
       "  <thead>\n",
       "    <tr style=\"text-align: right;\">\n",
       "      <th></th>\n",
       "      <th>hour</th>\n",
       "      <th>Fremont Bridge Total</th>\n",
       "      <th>Fremont Bridge East Sidewalk</th>\n",
       "      <th>Fremont Bridge West Sidewalk</th>\n",
       "      <th>total_bikes</th>\n",
       "      <th>year</th>\n",
       "    </tr>\n",
       "  </thead>\n",
       "  <tbody>\n",
       "    <tr>\n",
       "      <th>0</th>\n",
       "      <td>0</td>\n",
       "      <td>10.683060</td>\n",
       "      <td>4.666667</td>\n",
       "      <td>6.016393</td>\n",
       "      <td>10.683060</td>\n",
       "      <td>2016</td>\n",
       "    </tr>\n",
       "    <tr>\n",
       "      <th>1</th>\n",
       "      <td>1</td>\n",
       "      <td>5.532787</td>\n",
       "      <td>2.478142</td>\n",
       "      <td>3.054645</td>\n",
       "      <td>5.532787</td>\n",
       "      <td>2016</td>\n",
       "    </tr>\n",
       "    <tr>\n",
       "      <th>2</th>\n",
       "      <td>2</td>\n",
       "      <td>3.465753</td>\n",
       "      <td>1.443836</td>\n",
       "      <td>2.021918</td>\n",
       "      <td>3.465753</td>\n",
       "      <td>2016</td>\n",
       "    </tr>\n",
       "    <tr>\n",
       "      <th>3</th>\n",
       "      <td>3</td>\n",
       "      <td>2.133880</td>\n",
       "      <td>1.046448</td>\n",
       "      <td>1.087432</td>\n",
       "      <td>2.133880</td>\n",
       "      <td>2016</td>\n",
       "    </tr>\n",
       "    <tr>\n",
       "      <th>4</th>\n",
       "      <td>4</td>\n",
       "      <td>6.120219</td>\n",
       "      <td>3.338798</td>\n",
       "      <td>2.781421</td>\n",
       "      <td>6.120219</td>\n",
       "      <td>2016</td>\n",
       "    </tr>\n",
       "  </tbody>\n",
       "</table>\n",
       "</div>"
      ],
      "text/plain": [
       "   hour  Fremont Bridge Total  Fremont Bridge East Sidewalk  \\\n",
       "0     0             10.683060                      4.666667   \n",
       "1     1              5.532787                      2.478142   \n",
       "2     2              3.465753                      1.443836   \n",
       "3     3              2.133880                      1.046448   \n",
       "4     4              6.120219                      3.338798   \n",
       "\n",
       "   Fremont Bridge West Sidewalk  total_bikes  year  \n",
       "0                      6.016393    10.683060  2016  \n",
       "1                      3.054645     5.532787  2016  \n",
       "2                      2.021918     3.465753  2016  \n",
       "3                      1.087432     2.133880  2016  \n",
       "4                      2.781421     6.120219  2016  "
      ]
     },
     "execution_count": 7,
     "metadata": {},
     "output_type": "execute_result"
    }
   ],
   "source": [
    "# Sum up the total number of bicycles by hour\n",
    "# fremont_bikes_2016_hourly = fremont_bikes_2016.groupby(['hour'], as_index=False).sum()\n",
    "# Create a column in thousands for neater plotting\n",
    "# fremont_bikes_2016_hourly[\"total_bikes_thous\"] = fremont_bikes_2016_hourly[\"total_bikes\"] / 1000\n",
    "\n",
    "# Take the average number of bicycles crossing the bridge by hour across all days in 2016\n",
    "fremont_bikes_2016_hourly = fremont_bikes_2016.groupby(['hour'], as_index=False).mean()\n",
    "fremont_bikes_2016_hourly.head()"
   ]
  },
  {
   "cell_type": "code",
   "execution_count": 10,
   "metadata": {},
   "outputs": [
    {
     "data": {
      "text/html": [
       "<div>\n",
       "<style scoped>\n",
       "    .dataframe tbody tr th:only-of-type {\n",
       "        vertical-align: middle;\n",
       "    }\n",
       "\n",
       "    .dataframe tbody tr th {\n",
       "        vertical-align: top;\n",
       "    }\n",
       "\n",
       "    .dataframe thead th {\n",
       "        text-align: right;\n",
       "    }\n",
       "</style>\n",
       "<table border=\"1\" class=\"dataframe\">\n",
       "  <thead>\n",
       "    <tr style=\"text-align: right;\">\n",
       "      <th></th>\n",
       "      <th>hour</th>\n",
       "      <th>Fremont Bridge Total</th>\n",
       "      <th>Fremont Bridge East Sidewalk</th>\n",
       "      <th>Fremont Bridge West Sidewalk</th>\n",
       "      <th>total_bikes</th>\n",
       "      <th>year</th>\n",
       "    </tr>\n",
       "  </thead>\n",
       "  <tbody>\n",
       "    <tr>\n",
       "      <th>17</th>\n",
       "      <td>17</td>\n",
       "      <td>399.032787</td>\n",
       "      <td>115.483607</td>\n",
       "      <td>283.54918</td>\n",
       "      <td>399.032787</td>\n",
       "      <td>2016</td>\n",
       "    </tr>\n",
       "  </tbody>\n",
       "</table>\n",
       "</div>"
      ],
      "text/plain": [
       "    hour  Fremont Bridge Total  Fremont Bridge East Sidewalk  \\\n",
       "17    17            399.032787                    115.483607   \n",
       "\n",
       "    Fremont Bridge West Sidewalk  total_bikes  year  \n",
       "17                     283.54918   399.032787  2016  "
      ]
     },
     "execution_count": 10,
     "metadata": {},
     "output_type": "execute_result"
    }
   ],
   "source": [
    "# Identify the hour with the highest average bicycle traffic\n",
    "bikes_max = np.max(fremont_bikes_2016_hourly[\"total_bikes\"])\n",
    "fremont_bikes_2016_hourly[fremont_bikes_2016_hourly[\"total_bikes\"]==bikes_max]"
   ]
  },
  {
   "cell_type": "markdown",
   "metadata": {},
   "source": [
    "From this calculation, we can see that the average busiest hour is hour 17, or around 5PM."
   ]
  },
  {
   "cell_type": "code",
   "execution_count": 8,
   "metadata": {},
   "outputs": [
    {
     "data": {
      "image/png": "[encoded data removed]",
      "text/plain": [
       "<Figure size 432x288 with 1 Axes>"
      ]
     },
     "metadata": {
      "needs_background": "light"
     },
     "output_type": "display_data"
    }
   ],
   "source": [
    "# Plot the time series by hour of total bicycles\n",
    "plt.plot('hour', 'total_bikes', data=fremont_bikes_2016_hourly, color='black', label='total bikes')\n",
    "\n",
    "# Label axes, create legend, and format the figure\n",
    "plt.ylabel('Average number of bicycles')\n",
    "plt.xlabel('Hour')\n",
    "plt.title('Average number of bicycles crossing Fremont Bridge in 2016 by hour')\n",
    "plt.grid()\n",
    "plt.axhline(y=0, color='k', linewidth = 0)\n",
    "\n",
    "plt.show()"
   ]
  },
  {
   "cell_type": "markdown",
   "metadata": {},
   "source": [
    "From this figure, we see two major peaks in bicycle traffic across the Fremont Bridge in 2016 around hour 8 or 8:00 AM and hour 17 or 5:00 PM. This likely aligns with peak commuter hours as many cyclists may be commuting to work in the mornings and returning from work in the evenings. At these daily peaks, around 340 and 400 average cyclists crossed the Fremont bridge in 2016. The least frequent time for cyclists crossing the bridge was around 3:00 AM."
   ]
  }
 ],
 "metadata": {
  "kernelspec": {
   "display_name": "Python 3",
   "language": "python",
   "name": "python3"
  },
  "language_info": {
   "codemirror_mode": {
    "name": "ipython",
    "version": 3
   },
   "file_extension": ".py",
   "mimetype": "text/x-python",
   "name": "python",
   "nbconvert_exporter": "python",
   "pygments_lexer": "ipython3",
   "version": "3.6.8"
  }
 },
 "nbformat": 4,
 "nbformat_minor": 4
}
